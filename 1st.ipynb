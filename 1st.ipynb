{
 "cells": [
  {
   "cell_type": "code",
   "execution_count": 99,
   "id": "623fbc05",
   "metadata": {},
   "outputs": [],
   "source": [
    "from tkinter import *\n",
    "from tkinter import messagebox\n",
    "\n",
    "w=Tk()\n",
    "w.geometry('350x500')\n",
    "w.title('L O G I N')\n",
    "w.resizable(0,0)\n",
    "\n",
    "j=0\n",
    "r=0\n",
    "for i in range(100):\n",
    "    c=str(222222+r)\n",
    "    Frame(w,width=10,height=500,bg='#'+c).place(x=j,y=0)\n",
    "\n",
    "    j=j+10\n",
    "    r=r+1\n",
    "Frame(w,width=250,height=400,bg='white').place(x=50,y=50)\n",
    "\n",
    "#label1\n",
    "l1=Label(w,text='USERNAME',bg='white')\n",
    "l=('consolas',13) #font,text size\n",
    "l1.config(font=1)\n",
    "l1.place(x=80,y=200)\n",
    "\n",
    "e1=Entry(w,width=20,border=0)\n",
    "e1.config(font=1)\n",
    "e1.place(x=80,y=230)\n",
    "\n",
    "#label2\n",
    "l2=Label(w,text='PASSWORD',bg='white')\n",
    "l=('consolas',13) #font,text size\n",
    "l2.config(font=1)\n",
    "l2.place(x=80,y=280)\n",
    "\n",
    "e2=Entry(w,width=20,border=0)\n",
    "e2.config(font=1)\n",
    "e2.place(x=80,y=310)\n",
    "\n",
    "\n",
    "Frame(w,width=180,height=2,bg=\"#141414\").place(x=80,y=250)\n",
    "Frame(w,width=180,height=2,bg=\"#141414\").place(x=80,y=330)\n",
    "\n",
    "\"\"\"from PIL import ImageTk,Image\n",
    "\n",
    "image1=Image.open(\"login_image.png\")\n",
    "iage2=ImageTk.PhotoImage(image1)\n",
    "\n",
    "label1=Label(image=image2,border=0,justify=CENTER)\n",
    "label1.place(x=115,y=50)\"\"\"\n",
    "\n",
    "def cmd():\n",
    "    if e1.get()=='SHUBHANKAR' and e2.get()=='SHUBH12345':\n",
    "        messagebox.showinfo(\"LOGIN SUCCESSFULLY...\",\" WELCOME \")\n",
    "        q=Tk()\n",
    "        q.mainloop()\n",
    "    else:\n",
    "        messagebox.showinfo(\"LOGIN FAILED ...\",\" TRY AGAIN ..\")\n",
    "Button(w,width=25,height=2,fg='white',bg='#994422',border=0,command=cmd,text=\"L O G I N\").place(x=100,y=375)        \n",
    "\n",
    "\n",
    "\n",
    "w.mainloop()"
   ]
  },
  {
   "cell_type": "code",
   "execution_count": null,
   "id": "3f20657a",
   "metadata": {},
   "outputs": [],
   "source": []
  },
  {
   "cell_type": "code",
   "execution_count": null,
   "id": "88cbbcfb",
   "metadata": {},
   "outputs": [],
   "source": []
  },
  {
   "cell_type": "code",
   "execution_count": null,
   "id": "50da4413",
   "metadata": {},
   "outputs": [],
   "source": []
  },
  {
   "cell_type": "code",
   "execution_count": null,
   "id": "101d8e54",
   "metadata": {},
   "outputs": [],
   "source": []
  }
 ],
 "metadata": {
  "kernelspec": {
   "display_name": "Python 3",
   "language": "python",
   "name": "python3"
  },
  "language_info": {
   "codemirror_mode": {
    "name": "ipython",
    "version": 3
   },
   "file_extension": ".py",
   "mimetype": "text/x-python",
   "name": "python",
   "nbconvert_exporter": "python",
   "pygments_lexer": "ipython3",
   "version": "3.8.8"
  }
 },
 "nbformat": 4,
 "nbformat_minor": 5
}
